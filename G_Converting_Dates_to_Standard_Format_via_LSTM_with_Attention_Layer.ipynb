{
 "cells": [
  {
   "cell_type": "markdown",
   "source": [
    "In this [experiment](G_Converting_Dates_to_Standard_Format_via_LSTM_with_Attention_Layer.ipynb), I implemented a sequence-to-sequence model with two LSTM layers and an attention layer to perform \"date translation\" task - converting dates in any format into a standard YYYY-MM-DD format, based on the starting code, instructions, training sample and utility functions from the [Deep Learning - Sequence Models](https://www.coursera.org/learn/nlp-sequence-models) course (by DeepLearning.AI on Coursera).\n",
    "\n",
    "Here are some examples of expected conversion:\n",
    "```\n",
    "source: 3 May 1979\n",
    "output: 1979-05-03\n",
    "\n",
    "source: 5 April 09\n",
    "output: 2009-04-05\n",
    "\n",
    "source: 21th of August 2016\n",
    "output: 2016-08-21\n",
    "\n",
    "source: Tue 10 Jul 2007\n",
    "output: 2007-07-10\n",
    "\n",
    "source: Saturday May 9 2018\n",
    "output: 2018-05-09\n",
    "\n",
    "source: March 3 2001\n",
    "output: 2001-03-03\n",
    "\n",
    "source: March 3rd 2001\n",
    "output: 2001-03-03\n",
    "\n",
    "source: 1 March 2001\n",
    "output: 2001-03-01\n",
    "```\n",
    "\n",
    "The attention mechanism tells the model which character in the input string to pay more attention as it generates the output string (standardized date format).\n",
    "\n",
    "That's just like when you're translating from English to another language, sometimes you have to stop and look back to see which parts you should pay more attention to so that you can have more accurate translation.\n",
    "\n",
    "The attention model is illustrated in this diagram (from the Coursera assignment):\n",
    "\n",
    "![attn_model.png](images%2Fattn_model.png)\n",
    "\n",
    "Please refer to the course lectures and assignments on Coursera for the mathematical details of the attention layer, as shown in the diagram below:\n",
    "\n",
    "![attn_mechanism.png](images%2Fattn_mechanism.png)\n",
    "\n",
    "You can also visualize the attention weights that the model, upon trying to generate each character in the output, was paying to each character in the input string.\n",
    "\n",
    "Note that when generating the \"year\" part of the output, the model was paying attention to the year in the input. Similarly for the \"month\" and \"date\" parts.\n",
    "\n",
    "![sample_attention_weight_visualization2.png](sample_attention_weight_visualization2.png)"
   ],
   "metadata": {
    "collapsed": false,
    "id": "2e9c749fc62b2463"
   },
   "id": "2e9c749fc62b2463"
  },
  {
   "cell_type": "code",
   "execution_count": 1,
   "outputs": [
    {
     "output_type": "stream",
     "name": "stdout",
     "text": [
      "Mounted at /content/drive\n"
     ]
    }
   ],
   "source": [
    "# from google.colab import drive\n",
    "# drive.mount('/content/drive')"
   ],
   "metadata": {
    "colab": {
     "base_uri": "https://localhost:8080/"
    },
    "id": "98d923a3459e94d7",
    "executionInfo": {
     "status": "ok",
     "timestamp": 1703244032903,
     "user_tz": -420,
     "elapsed": 26300,
     "user": {
      "displayName": "Thuan Nguyen",
      "userId": "08117843644571562719"
     }
    },
    "outputId": "8d7d201f-1f90-4335-8bd2-bcb0af3b2e0b"
   },
   "id": "98d923a3459e94d7"
  },
  {
   "cell_type": "code",
   "execution_count": 2,
   "outputs": [
    {
     "output_type": "stream",
     "name": "stdout",
     "text": [
      "/content/drive/Othercomputers/My Laptop/T_Repo/C5_W3_Assignment1/Files/home/jovyan/work/W3A1\n",
      "G_Converting_Dates_to_Standard_Format_via_LSTM_with_Attention_Layer.ipynb\n",
      "generateTestCases.py\n",
      "\u001B[0m\u001B[01;34mimages\u001B[0m/\n",
      "\u001B[01;34mmodels\u001B[0m/\n",
      "Neural_machine_translation_with_attention_v4a.ipynb\n",
      "nmt_utils.py\n",
      "notebook2script.py\n",
      "O_greyhat_Neural_machine_translation_with_attention_v4a.ipynb\n",
      "\u001B[01;34m__pycache__\u001B[0m/\n",
      "\u001B[01;34mPythonScript\u001B[0m/\n",
      "readme.md\n",
      "sample_attention_weight_visualization.png\n",
      "test_utils.py\n",
      "T_Neural_machine_translation_with_attention_v4a.ipynb\n"
     ]
    }
   ],
   "source": [
    "# %cd /content/drive/Othercomputers/My Laptop/T_Repo/C5_W3_Assignment1/Files/home/jovyan/work/W3A1\n",
    "# %ls"
   ],
   "metadata": {
    "colab": {
     "base_uri": "https://localhost:8080/"
    },
    "id": "3d72610deeed3ba2",
    "executionInfo": {
     "status": "ok",
     "timestamp": 1703244032905,
     "user_tz": -420,
     "elapsed": 1099,
     "user": {
      "displayName": "Thuan Nguyen",
      "userId": "08117843644571562719"
     }
    },
    "outputId": "a0f749f7-418d-4a2a-b4e0-1752bdbd5d41"
   },
   "id": "3d72610deeed3ba2"
  },
  {
   "cell_type": "code",
   "execution_count": 3,
   "id": "initial_id",
   "metadata": {
    "collapsed": true,
    "colab": {
     "base_uri": "https://localhost:8080/"
    },
    "id": "initial_id",
    "executionInfo": {
     "status": "ok",
     "timestamp": 1703244038679,
     "user_tz": -420,
     "elapsed": 5783,
     "user": {
      "displayName": "Thuan Nguyen",
      "userId": "08117843644571562719"
     }
    },
    "outputId": "e6e35bb8-32d6-4c05-f438-9dfa1f36c242"
   },
   "outputs": [
    {
     "output_type": "stream",
     "name": "stdout",
     "text": [
      "Collecting faker\n",
      "  Downloading Faker-21.0.0-py3-none-any.whl (1.7 MB)\n",
      "\u001B[2K     \u001B[90m━━━━━━━━━━━━━━━━━━━━━━━━━━━━━━━━━━━━━━━━\u001B[0m \u001B[32m1.7/1.7 MB\u001B[0m \u001B[31m9.4 MB/s\u001B[0m eta \u001B[36m0:00:00\u001B[0m\n",
      "\u001B[?25hRequirement already satisfied: python-dateutil>=2.4 in /usr/local/lib/python3.10/dist-packages (from faker) (2.8.2)\n",
      "Requirement already satisfied: six>=1.5 in /usr/local/lib/python3.10/dist-packages (from python-dateutil>=2.4->faker) (1.16.0)\n",
      "Installing collected packages: faker\n",
      "Successfully installed faker-21.0.0\n"
     ]
    }
   ],
   "source": [
    "%pip install faker"
   ]
  },
  {
   "cell_type": "code",
   "execution_count": 4,
   "outputs": [],
   "source": [
    "from keras.api._v2.keras.layers import Bidirectional, Concatenate, Permute, Dot, Input, LSTM, Multiply\n",
    "from keras.api._v2.keras.layers import RepeatVector, Dense, Activation, Lambda\n",
    "from keras.api._v2.keras.optimizers import Adam\n",
    "from keras.api._v2.keras.utils import to_categorical\n",
    "from keras.api._v2.keras.models import load_model, Model\n",
    "import keras.api._v2.keras.backend as K\n",
    "import tensorflow as tf\n",
    "import numpy as np\n",
    "\n",
    "from faker import Faker\n",
    "import random\n",
    "from tqdm import tqdm\n",
    "from babel.dates import format_date\n",
    "from nmt_utils import *\n",
    "import matplotlib.pyplot as plt\n",
    "%matplotlib inline"
   ],
   "metadata": {
    "ExecuteTime": {
     "end_time": "2023-12-22T11:08:34.890132400Z",
     "start_time": "2023-12-22T11:08:12.379016700Z"
    },
    "id": "945f658e6b2a433f",
    "executionInfo": {
     "status": "ok",
     "timestamp": 1703244042641,
     "user_tz": -420,
     "elapsed": 3980,
     "user": {
      "displayName": "Thuan Nguyen",
      "userId": "08117843644571562719"
     }
    }
   },
   "id": "945f658e6b2a433f"
  },
  {
   "cell_type": "code",
   "execution_count": 5,
   "outputs": [
    {
     "output_type": "stream",
     "name": "stderr",
     "text": [
      "100%|██████████| 10000/10000 [00:00<00:00, 25309.34it/s]\n"
     ]
    }
   ],
   "source": [
    "# Importing the dataset\n",
    "m = 10000\n",
    "dataset, human_vocab, machine_vocab, inv_machine_vocab = load_dataset(m)"
   ],
   "metadata": {
    "ExecuteTime": {
     "end_time": "2023-12-22T11:08:36.532082Z",
     "start_time": "2023-12-22T11:08:34.831741200Z"
    },
    "colab": {
     "base_uri": "https://localhost:8080/"
    },
    "id": "f8e9d4b15a6b268a",
    "executionInfo": {
     "status": "ok",
     "timestamp": 1703244043139,
     "user_tz": -420,
     "elapsed": 511,
     "user": {
      "displayName": "Thuan Nguyen",
      "userId": "08117843644571562719"
     }
    },
    "outputId": "cd6a3100-a41f-4b94-facc-4f383ba737db"
   },
   "id": "f8e9d4b15a6b268a"
  },
  {
   "cell_type": "code",
   "execution_count": 6,
   "outputs": [
    {
     "output_type": "execute_result",
     "data": {
      "text/plain": [
       "[('27 jun 1992', '1992-06-27'),\n",
       " ('20.07.70', '1970-07-20'),\n",
       " ('7/16/14', '2014-07-16'),\n",
       " ('thursday february 13 1986', '1986-02-13'),\n",
       " ('sunday november 19 1989', '1989-11-19'),\n",
       " ('saturday june 14 1980', '1980-06-14'),\n",
       " ('wednesday july 19 2000', '2000-07-19'),\n",
       " ('23 sep 1978', '1978-09-23'),\n",
       " ('15 sep 1976', '1976-09-15'),\n",
       " ('friday may 14 1993', '1993-05-14')]"
      ]
     },
     "metadata": {},
     "execution_count": 6
    }
   ],
   "source": [
    "dataset[:10]"
   ],
   "metadata": {
    "ExecuteTime": {
     "end_time": "2023-12-22T11:08:39.176831300Z",
     "start_time": "2023-12-22T11:08:38.914818300Z"
    },
    "colab": {
     "base_uri": "https://localhost:8080/"
    },
    "id": "72849a1dc7266acb",
    "executionInfo": {
     "status": "ok",
     "timestamp": 1703244043139,
     "user_tz": -420,
     "elapsed": 8,
     "user": {
      "displayName": "Thuan Nguyen",
      "userId": "08117843644571562719"
     }
    },
    "outputId": "1a9c8a44-7f96-4259-c145-33dcc6248581"
   },
   "id": "72849a1dc7266acb"
  },
  {
   "cell_type": "code",
   "execution_count": 7,
   "outputs": [
    {
     "output_type": "stream",
     "name": "stdout",
     "text": [
      "X.shape: (10000, 30)\n",
      "Y.shape: (10000, 10)\n",
      "Xoh.shape: (10000, 30, 37)\n",
      "Yoh.shape: (10000, 10, 11)\n"
     ]
    }
   ],
   "source": [
    "Tx = 30  # max length of the input string\n",
    "Ty = 10  # length of output string (standardized date format)\n",
    "X, Y, Xoh, Yoh = preprocess_data(dataset, human_vocab, machine_vocab, Tx, Ty)\n",
    "\n",
    "print(\"X.shape:\", X.shape)\n",
    "print(\"Y.shape:\", Y.shape)\n",
    "print(\"Xoh.shape:\", Xoh.shape)\n",
    "print(\"Yoh.shape:\", Yoh.shape)"
   ],
   "metadata": {
    "ExecuteTime": {
     "end_time": "2023-12-22T11:09:09.587812Z",
     "start_time": "2023-12-22T11:09:06.363804200Z"
    },
    "colab": {
     "base_uri": "https://localhost:8080/"
    },
    "id": "2d9a08a580aaf46e",
    "executionInfo": {
     "status": "ok",
     "timestamp": 1703244043489,
     "user_tz": -420,
     "elapsed": 354,
     "user": {
      "displayName": "Thuan Nguyen",
      "userId": "08117843644571562719"
     }
    },
    "outputId": "5aa7024d-908d-430c-eb11-db8487f073e1"
   },
   "id": "2d9a08a580aaf46e"
  },
  {
   "cell_type": "code",
   "execution_count": 8,
   "outputs": [
    {
     "output_type": "stream",
     "name": "stdout",
     "text": [
      "Source date: 27 jun 1992\n",
      "Target date: 1992-06-27\n",
      "\n",
      "Source after preprocessing (indices): [ 5 10  0 22 31 25  0  4 12 12  5 36 36 36 36 36 36 36 36 36 36 36 36 36\n",
      " 36 36 36 36 36 36]\n",
      "Target after preprocessing (indices): [ 2 10 10  3  0  1  7  0  3  8]\n",
      "\n",
      "Source after preprocessing (one-hot): [[0. 0. 0. ... 0. 0. 0.]\n",
      " [0. 0. 0. ... 0. 0. 0.]\n",
      " [1. 0. 0. ... 0. 0. 0.]\n",
      " ...\n",
      " [0. 0. 0. ... 0. 0. 1.]\n",
      " [0. 0. 0. ... 0. 0. 1.]\n",
      " [0. 0. 0. ... 0. 0. 1.]]\n",
      "Target after preprocessing (one-hot): [[0. 0. 1. 0. 0. 0. 0. 0. 0. 0. 0.]\n",
      " [0. 0. 0. 0. 0. 0. 0. 0. 0. 0. 1.]\n",
      " [0. 0. 0. 0. 0. 0. 0. 0. 0. 0. 1.]\n",
      " [0. 0. 0. 1. 0. 0. 0. 0. 0. 0. 0.]\n",
      " [1. 0. 0. 0. 0. 0. 0. 0. 0. 0. 0.]\n",
      " [0. 1. 0. 0. 0. 0. 0. 0. 0. 0. 0.]\n",
      " [0. 0. 0. 0. 0. 0. 0. 1. 0. 0. 0.]\n",
      " [1. 0. 0. 0. 0. 0. 0. 0. 0. 0. 0.]\n",
      " [0. 0. 0. 1. 0. 0. 0. 0. 0. 0. 0.]\n",
      " [0. 0. 0. 0. 0. 0. 0. 0. 1. 0. 0.]]\n"
     ]
    }
   ],
   "source": [
    "# Examples of one-hot encoding of the inputs and outputs\n",
    "index = 0\n",
    "print(\"Source date:\", dataset[index][0])\n",
    "print(\"Target date:\", dataset[index][1])\n",
    "print()\n",
    "print(\"Source after preprocessing (indices):\", X[index])\n",
    "print(\"Target after preprocessing (indices):\", Y[index])\n",
    "print()\n",
    "print(\"Source after preprocessing (one-hot):\", Xoh[index])\n",
    "print(\"Target after preprocessing (one-hot):\", Yoh[index])"
   ],
   "metadata": {
    "ExecuteTime": {
     "end_time": "2023-12-22T11:09:25.750625600Z",
     "start_time": "2023-12-22T11:09:25.578564400Z"
    },
    "colab": {
     "base_uri": "https://localhost:8080/"
    },
    "id": "1ee8d91cde0a9608",
    "executionInfo": {
     "status": "ok",
     "timestamp": 1703244043491,
     "user_tz": -420,
     "elapsed": 22,
     "user": {
      "displayName": "Thuan Nguyen",
      "userId": "08117843644571562719"
     }
    },
    "outputId": "865e873f-146a-4124-fe3e-be466f93bc20"
   },
   "id": "1ee8d91cde0a9608"
  },
  {
   "cell_type": "markdown",
   "source": [
    "# Building the attention layer"
   ],
   "metadata": {
    "collapsed": false,
    "id": "221797c3dacb1d44"
   },
   "id": "221797c3dacb1d44"
  },
  {
   "cell_type": "code",
   "execution_count": 9,
   "outputs": [],
   "source": [
    "# # Defined shared layers as global variables\n",
    "\n",
    "repeator = RepeatVector(Tx)\n",
    "concatenator = Concatenate(axis=-1)\n",
    "densor1 = Dense(10, activation=\"tanh\")\n",
    "densor2 = Dense(1, activation=\"relu\")\n",
    "activator = Activation(softmax, name=\"attention_weights\")  # using the custom softmax function (axis=1) loaded in this notebook\n",
    "dotor = Dot(axes=1)"
   ],
   "metadata": {
    "ExecuteTime": {
     "end_time": "2023-12-22T11:09:43.802059700Z",
     "start_time": "2023-12-22T11:09:41.291726Z"
    },
    "id": "79c21c25e3eec0c5",
    "executionInfo": {
     "status": "ok",
     "timestamp": 1703244043492,
     "user_tz": -420,
     "elapsed": 16,
     "user": {
      "displayName": "Thuan Nguyen",
      "userId": "08117843644571562719"
     }
    }
   },
   "id": "79c21c25e3eec0c5"
  },
  {
   "cell_type": "code",
   "execution_count": 10,
   "outputs": [],
   "source": [
    "\n",
    "def one_step_attention(a, s_prev):\n",
    "    \"\"\"\n",
    "    Performs one step of attention: Outputs a context vector computed as a dot product of the attention weights\n",
    "    \"alphas\" and the hidden states \"a\" of the Bi-LSTM.\n",
    "\n",
    "    Arguments:\n",
    "    a -- hidden state output of the Bi-LSTM, numpy-array of shape (m, Tx, 2*n_a)\n",
    "    s_prev -- previous hidden state of the (post-attention) LSTM, numpy-array of shape (m, n_s)\n",
    "\n",
    "    Returns:\n",
    "    context -- context vector, input of the next (post-attention) LSTM cell\n",
    "    \"\"\"\n",
    "\n",
    "    # Use repeator to repeat s_prev to be of shape (m, Tx, n_s) so that you can concatenate it with all hidden states \"a\" (≈ 1 line)\n",
    "    s_prev = repeator(s_prev)\n",
    "    # Use concatenator to concatenate a and s_prev on the last axis (≈ 1 line)\n",
    "    # For grading purposes, please list 'a' first and 's_prev' second, in this order.\n",
    "    concat = concatenator([a, s_prev])  # shape (m, Tx, n_s + 2*n_a)\n",
    "    # Use densor1 to propagate concat through a small fully-connected neural network to compute the \"intermediate energies\" variable e. (≈1 lines)\n",
    "    e = densor1(concat)  # shape (m, Tx, 10)\n",
    "    # Use densor2 to propagate e through a small fully-connected neural network to compute the \"energies\" variable energies. (≈1 lines)\n",
    "    energies = densor2(e)  # shape (m, Tx, 1)\n",
    "    # Use \"activator\" on \"energies\" to compute the attention weights \"alphas\" (≈ 1 line)\n",
    "    alphas = activator(energies)  # shape (m, Tx, 1)\n",
    "    # Use dotor together with \"alphas\" and \"a\", in this order, to compute the context vector to be given to the next (post-attention) LSTM-cell (≈ 1 line)\n",
    "    # 'a' has shape (m, Tx, 2*n_a)\n",
    "    context = dotor([alphas, a])\n",
    "\n",
    "    return context"
   ],
   "metadata": {
    "ExecuteTime": {
     "end_time": "2023-12-22T11:09:55.644554800Z",
     "start_time": "2023-12-22T11:09:55.528272100Z"
    },
    "id": "a926548d1df394ef",
    "executionInfo": {
     "status": "ok",
     "timestamp": 1703244043492,
     "user_tz": -420,
     "elapsed": 14,
     "user": {
      "displayName": "Thuan Nguyen",
      "userId": "08117843644571562719"
     }
    }
   },
   "id": "a926548d1df394ef"
  },
  {
   "cell_type": "markdown",
   "source": [
    "# Building the LSTM model"
   ],
   "metadata": {
    "collapsed": false,
    "id": "d71272a3195d8343"
   },
   "id": "d71272a3195d8343"
  },
  {
   "cell_type": "code",
   "execution_count": 11,
   "outputs": [],
   "source": [
    "n_a = 32 # number of units for the pre-attention, bi-directional LSTM's hidden state 'a'\n",
    "n_s = 64 # number of units for the post-attention LSTM's hidden state \"s\"\n",
    "\n",
    "# Please note, this is the post attention LSTM cell.\n",
    "post_activation_LSTM_cell = LSTM(n_s, return_state=True)\n",
    "output_layer = Dense(len(machine_vocab), activation=softmax)"
   ],
   "metadata": {
    "ExecuteTime": {
     "end_time": "2023-12-22T11:10:11.530705800Z",
     "start_time": "2023-12-22T11:10:11.357527900Z"
    },
    "id": "2ec5d17ad30d2d77",
    "executionInfo": {
     "status": "ok",
     "timestamp": 1703244044297,
     "user_tz": -420,
     "elapsed": 818,
     "user": {
      "displayName": "Thuan Nguyen",
      "userId": "08117843644571562719"
     }
    }
   },
   "id": "2ec5d17ad30d2d77"
  },
  {
   "cell_type": "code",
   "execution_count": 12,
   "outputs": [],
   "source": [
    "\n",
    "def modelf(Tx, Ty, n_a, n_s, human_vocab_size, machine_vocab_size):\n",
    "    \"\"\"\n",
    "    Arguments:\n",
    "    Tx -- length of the input sequence\n",
    "    Ty -- length of the output sequence\n",
    "    n_a -- hidden state size of the Bi-LSTM\n",
    "    n_s -- hidden state size of the post-attention LSTM\n",
    "    human_vocab_size -- size of the python dictionary \"human_vocab\"\n",
    "    machine_vocab_size -- size of the python dictionary \"machine_vocab\"\n",
    "\n",
    "    Returns:\n",
    "    model -- Keras model instance\n",
    "    \"\"\"\n",
    "\n",
    "    # Define the inputs of your model with a shape (Tx, human_vocab_size)\n",
    "    # Define s0 (initial hidden state) and c0 (initial cell state)\n",
    "    # for the decoder LSTM with shape (n_s,)\n",
    "    X = Input(shape=(Tx, human_vocab_size))\n",
    "    # initial hidden state\n",
    "    s0 = Input(shape=(n_s, ), name='s0')\n",
    "    # initial cell state\n",
    "    c0 = Input(shape=(n_s,), name='c0')\n",
    "    # hidden state\n",
    "    s = s0\n",
    "    # cell state\n",
    "    c = c0\n",
    "\n",
    "    # Initialize empty list of outputs\n",
    "    outputs = []\n",
    "\n",
    "    # Step 1: Define your pre-attention Bi-LSTM. (≈ 1 line)\n",
    "    a = Bidirectional(LSTM(units=n_a, return_sequences=True), )(X)\n",
    "\n",
    "    # Step 2: Iterate for Ty steps\n",
    "    for t in range(Ty):\n",
    "\n",
    "        # Step 2.A: Perform one step of the attention mechanism to get back the context vector at step t (≈ 1 line)\n",
    "        context = one_step_attention(a, s)\n",
    "\n",
    "        # Step 2.B: Apply the post-attention LSTM cell to the \"context\" vector. (≈ 1 line)\n",
    "        # Don't forget to pass: initial_state = [hidden state, cell state]\n",
    "        # Remember: s = hidden state, c = cell state\n",
    "        _, s, c = post_activation_LSTM_cell(inputs=context, initial_state=[s, c])\n",
    "\n",
    "        # Step 2.C: Apply Dense layer to the hidden state output of the post-attention LSTM (≈ 1 line)\n",
    "        out = output_layer(s)\n",
    "\n",
    "        # Step 2.D: Append \"out\" to the \"outputs\" list (≈ 1 line)\n",
    "        outputs.append(out)\n",
    "\n",
    "    # Step 3: Create model instance taking three inputs and returning the list of outputs. (≈ 1 line)\n",
    "    model = Model(inputs=[X, s0, c0], outputs=outputs)\n",
    "\n",
    "    return model"
   ],
   "metadata": {
    "ExecuteTime": {
     "end_time": "2023-12-22T11:10:27.929896Z",
     "start_time": "2023-12-22T11:10:27.781217700Z"
    },
    "id": "7210693eb3b907d7",
    "executionInfo": {
     "status": "ok",
     "timestamp": 1703244044297,
     "user_tz": -420,
     "elapsed": 4,
     "user": {
      "displayName": "Thuan Nguyen",
      "userId": "08117843644571562719"
     }
    }
   },
   "id": "7210693eb3b907d7"
  },
  {
   "cell_type": "code",
   "execution_count": 13,
   "outputs": [],
   "source": [
    "model = modelf(Tx, Ty, n_a, n_s, len(human_vocab), len(machine_vocab))"
   ],
   "metadata": {
    "ExecuteTime": {
     "end_time": "2023-12-22T11:10:54.694068Z",
     "start_time": "2023-12-22T11:10:34.648824800Z"
    },
    "id": "fb0b04d1369a74b0",
    "executionInfo": {
     "status": "ok",
     "timestamp": 1703244048460,
     "user_tz": -420,
     "elapsed": 4167,
     "user": {
      "displayName": "Thuan Nguyen",
      "userId": "08117843644571562719"
     }
    }
   },
   "id": "fb0b04d1369a74b0"
  },
  {
   "cell_type": "markdown",
   "source": [
    "# Training"
   ],
   "metadata": {
    "collapsed": false,
    "id": "8f29bf4a4264c773"
   },
   "id": "8f29bf4a4264c773"
  },
  {
   "cell_type": "code",
   "execution_count": 14,
   "outputs": [],
   "source": [
    "opt = Adam(learning_rate=0.005, beta_1=0.9, beta_2=0.999, weight_decay=0.01)\n",
    "model.compile(loss='categorical_crossentropy', optimizer=opt, metrics=['accuracy'])"
   ],
   "metadata": {
    "ExecuteTime": {
     "end_time": "2023-12-22T11:10:54.771922500Z",
     "start_time": "2023-12-22T11:10:54.697564Z"
    },
    "id": "fac90d04d9d0677a",
    "executionInfo": {
     "status": "ok",
     "timestamp": 1703244048465,
     "user_tz": -420,
     "elapsed": 28,
     "user": {
      "displayName": "Thuan Nguyen",
      "userId": "08117843644571562719"
     }
    }
   },
   "id": "fac90d04d9d0677a"
  },
  {
   "cell_type": "code",
   "execution_count": 15,
   "outputs": [],
   "source": [
    "s0 = np.zeros(shape=(m, n_s))\n",
    "c0 = np.zeros(shape=(m, n_s))\n",
    "outputs = list(Yoh.swapaxes(0, 1))"
   ],
   "metadata": {
    "ExecuteTime": {
     "end_time": "2023-12-22T11:11:13.850028100Z",
     "start_time": "2023-12-22T11:11:13.751806600Z"
    },
    "id": "5884b50462b244bb",
    "executionInfo": {
     "status": "ok",
     "timestamp": 1703244048465,
     "user_tz": -420,
     "elapsed": 25,
     "user": {
      "displayName": "Thuan Nguyen",
      "userId": "08117843644571562719"
     }
    }
   },
   "id": "5884b50462b244bb"
  },
  {
   "cell_type": "code",
   "execution_count": 16,
   "outputs": [
    {
     "output_type": "stream",
     "name": "stdout",
     "text": [
      "Epoch 1/20\n",
      "100/100 [==============================] - 20s 24ms/step - loss: 15.5678 - dense_2_loss: 1.0116 - dense_2_1_loss: 0.8395 - dense_2_2_loss: 1.6737 - dense_2_3_loss: 2.5987 - dense_2_4_loss: 0.6740 - dense_2_5_loss: 1.1973 - dense_2_6_loss: 2.5786 - dense_2_7_loss: 0.8011 - dense_2_8_loss: 1.6383 - dense_2_9_loss: 2.5551 - dense_2_accuracy: 0.6035 - dense_2_1_accuracy: 0.7566 - dense_2_2_accuracy: 0.3135 - dense_2_3_accuracy: 0.1048 - dense_2_4_accuracy: 0.8837 - dense_2_5_accuracy: 0.4174 - dense_2_6_accuracy: 0.0749 - dense_2_7_accuracy: 0.9116 - dense_2_8_accuracy: 0.2634 - dense_2_9_accuracy: 0.1002\n",
      "Epoch 2/20\n",
      "100/100 [==============================] - 2s 24ms/step - loss: 7.7223 - dense_2_loss: 0.0941 - dense_2_1_loss: 0.0806 - dense_2_2_loss: 0.8526 - dense_2_3_loss: 1.7051 - dense_2_4_loss: 0.0115 - dense_2_5_loss: 0.2381 - dense_2_6_loss: 1.7593 - dense_2_7_loss: 0.0094 - dense_2_8_loss: 0.9580 - dense_2_9_loss: 2.0137 - dense_2_accuracy: 0.9747 - dense_2_1_accuracy: 0.9777 - dense_2_2_accuracy: 0.6372 - dense_2_3_accuracy: 0.3956 - dense_2_4_accuracy: 1.0000 - dense_2_5_accuracy: 0.9258 - dense_2_6_accuracy: 0.3581 - dense_2_7_accuracy: 1.0000 - dense_2_8_accuracy: 0.5832 - dense_2_9_accuracy: 0.2579\n",
      "Epoch 3/20\n",
      "100/100 [==============================] - 2s 23ms/step - loss: 4.2885 - dense_2_loss: 0.0378 - dense_2_1_loss: 0.0252 - dense_2_2_loss: 0.3528 - dense_2_3_loss: 0.6796 - dense_2_4_loss: 0.0060 - dense_2_5_loss: 0.1102 - dense_2_6_loss: 1.1390 - dense_2_7_loss: 0.0084 - dense_2_8_loss: 0.6512 - dense_2_9_loss: 1.2782 - dense_2_accuracy: 0.9913 - dense_2_1_accuracy: 0.9938 - dense_2_2_accuracy: 0.8724 - dense_2_3_accuracy: 0.7792 - dense_2_4_accuracy: 1.0000 - dense_2_5_accuracy: 0.9673 - dense_2_6_accuracy: 0.5921 - dense_2_7_accuracy: 0.9999 - dense_2_8_accuracy: 0.7455 - dense_2_9_accuracy: 0.5184\n",
      "Epoch 4/20\n",
      "100/100 [==============================] - 2s 23ms/step - loss: 1.9647 - dense_2_loss: 0.0137 - dense_2_1_loss: 0.0072 - dense_2_2_loss: 0.1174 - dense_2_3_loss: 0.2827 - dense_2_4_loss: 0.0034 - dense_2_5_loss: 0.0665 - dense_2_6_loss: 0.5624 - dense_2_7_loss: 0.0059 - dense_2_8_loss: 0.4440 - dense_2_9_loss: 0.4615 - dense_2_accuracy: 0.9995 - dense_2_1_accuracy: 1.0000 - dense_2_2_accuracy: 0.9688 - dense_2_3_accuracy: 0.9085 - dense_2_4_accuracy: 1.0000 - dense_2_5_accuracy: 0.9800 - dense_2_6_accuracy: 0.8384 - dense_2_7_accuracy: 0.9998 - dense_2_8_accuracy: 0.8360 - dense_2_9_accuracy: 0.8446\n",
      "Epoch 5/20\n",
      "100/100 [==============================] - 2s 24ms/step - loss: 0.8273 - dense_2_loss: 0.0078 - dense_2_1_loss: 0.0047 - dense_2_2_loss: 0.0425 - dense_2_3_loss: 0.1305 - dense_2_4_loss: 0.0018 - dense_2_5_loss: 0.0471 - dense_2_6_loss: 0.2490 - dense_2_7_loss: 0.0028 - dense_2_8_loss: 0.2260 - dense_2_9_loss: 0.1151 - dense_2_accuracy: 1.0000 - dense_2_1_accuracy: 0.9998 - dense_2_2_accuracy: 0.9941 - dense_2_3_accuracy: 0.9730 - dense_2_4_accuracy: 1.0000 - dense_2_5_accuracy: 0.9858 - dense_2_6_accuracy: 0.9393 - dense_2_7_accuracy: 1.0000 - dense_2_8_accuracy: 0.9196 - dense_2_9_accuracy: 0.9704\n",
      "Epoch 6/20\n",
      "100/100 [==============================] - 2s 24ms/step - loss: 0.3135 - dense_2_loss: 0.0045 - dense_2_1_loss: 0.0031 - dense_2_2_loss: 0.0171 - dense_2_3_loss: 0.0594 - dense_2_4_loss: 0.0011 - dense_2_5_loss: 0.0254 - dense_2_6_loss: 0.1104 - dense_2_7_loss: 0.0015 - dense_2_8_loss: 0.0628 - dense_2_9_loss: 0.0281 - dense_2_accuracy: 0.9998 - dense_2_1_accuracy: 0.9999 - dense_2_2_accuracy: 0.9991 - dense_2_3_accuracy: 0.9963 - dense_2_4_accuracy: 1.0000 - dense_2_5_accuracy: 0.9909 - dense_2_6_accuracy: 0.9733 - dense_2_7_accuracy: 1.0000 - dense_2_8_accuracy: 0.9842 - dense_2_9_accuracy: 0.9957\n",
      "Epoch 7/20\n",
      "100/100 [==============================] - 3s 25ms/step - loss: 0.1551 - dense_2_loss: 0.0028 - dense_2_1_loss: 0.0019 - dense_2_2_loss: 0.0094 - dense_2_3_loss: 0.0387 - dense_2_4_loss: 7.7896e-04 - dense_2_5_loss: 0.0151 - dense_2_6_loss: 0.0616 - dense_2_7_loss: 8.5645e-04 - dense_2_8_loss: 0.0154 - dense_2_9_loss: 0.0086 - dense_2_accuracy: 0.9999 - dense_2_1_accuracy: 1.0000 - dense_2_2_accuracy: 0.9997 - dense_2_3_accuracy: 0.9976 - dense_2_4_accuracy: 1.0000 - dense_2_5_accuracy: 0.9952 - dense_2_6_accuracy: 0.9849 - dense_2_7_accuracy: 1.0000 - dense_2_8_accuracy: 0.9974 - dense_2_9_accuracy: 0.9993\n",
      "Epoch 8/20\n",
      "100/100 [==============================] - 2s 24ms/step - loss: 0.1051 - dense_2_loss: 0.0020 - dense_2_1_loss: 0.0015 - dense_2_2_loss: 0.0070 - dense_2_3_loss: 0.0316 - dense_2_4_loss: 5.6393e-04 - dense_2_5_loss: 0.0104 - dense_2_6_loss: 0.0391 - dense_2_7_loss: 6.2925e-04 - dense_2_8_loss: 0.0075 - dense_2_9_loss: 0.0049 - dense_2_accuracy: 1.0000 - dense_2_1_accuracy: 1.0000 - dense_2_2_accuracy: 0.9997 - dense_2_3_accuracy: 0.9977 - dense_2_4_accuracy: 1.0000 - dense_2_5_accuracy: 0.9969 - dense_2_6_accuracy: 0.9909 - dense_2_7_accuracy: 1.0000 - dense_2_8_accuracy: 0.9991 - dense_2_9_accuracy: 0.9998\n",
      "Epoch 9/20\n",
      "100/100 [==============================] - 2s 24ms/step - loss: 0.0666 - dense_2_loss: 0.0014 - dense_2_1_loss: 0.0011 - dense_2_2_loss: 0.0052 - dense_2_3_loss: 0.0262 - dense_2_4_loss: 4.7219e-04 - dense_2_5_loss: 0.0042 - dense_2_6_loss: 0.0211 - dense_2_7_loss: 4.5118e-04 - dense_2_8_loss: 0.0034 - dense_2_9_loss: 0.0030 - dense_2_accuracy: 1.0000 - dense_2_1_accuracy: 1.0000 - dense_2_2_accuracy: 0.9998 - dense_2_3_accuracy: 0.9977 - dense_2_4_accuracy: 1.0000 - dense_2_5_accuracy: 0.9992 - dense_2_6_accuracy: 0.9966 - dense_2_7_accuracy: 1.0000 - dense_2_8_accuracy: 0.9999 - dense_2_9_accuracy: 0.9999\n",
      "Epoch 10/20\n",
      "100/100 [==============================] - 2s 24ms/step - loss: 0.0714 - dense_2_loss: 0.0011 - dense_2_1_loss: 8.0561e-04 - dense_2_2_loss: 0.0044 - dense_2_3_loss: 0.0231 - dense_2_4_loss: 0.0010 - dense_2_5_loss: 0.0057 - dense_2_6_loss: 0.0186 - dense_2_7_loss: 0.0053 - dense_2_8_loss: 0.0053 - dense_2_9_loss: 0.0061 - dense_2_accuracy: 1.0000 - dense_2_1_accuracy: 1.0000 - dense_2_2_accuracy: 0.9998 - dense_2_3_accuracy: 0.9973 - dense_2_4_accuracy: 0.9999 - dense_2_5_accuracy: 0.9984 - dense_2_6_accuracy: 0.9966 - dense_2_7_accuracy: 0.9995 - dense_2_8_accuracy: 0.9997 - dense_2_9_accuracy: 0.9993\n",
      "Epoch 11/20\n",
      "100/100 [==============================] - 2s 24ms/step - loss: 0.6325 - dense_2_loss: 0.0146 - dense_2_1_loss: 0.0163 - dense_2_2_loss: 0.0887 - dense_2_3_loss: 0.2681 - dense_2_4_loss: 0.0050 - dense_2_5_loss: 0.0227 - dense_2_6_loss: 0.1304 - dense_2_7_loss: 0.0119 - dense_2_8_loss: 0.0393 - dense_2_9_loss: 0.0355 - dense_2_accuracy: 0.9973 - dense_2_1_accuracy: 0.9970 - dense_2_2_accuracy: 0.9753 - dense_2_3_accuracy: 0.9360 - dense_2_4_accuracy: 0.9987 - dense_2_5_accuracy: 0.9936 - dense_2_6_accuracy: 0.9663 - dense_2_7_accuracy: 0.9976 - dense_2_8_accuracy: 0.9921 - dense_2_9_accuracy: 0.9921\n",
      "Epoch 12/20\n",
      "100/100 [==============================] - 2s 24ms/step - loss: 0.0743 - dense_2_loss: 0.0021 - dense_2_1_loss: 0.0020 - dense_2_2_loss: 0.0084 - dense_2_3_loss: 0.0344 - dense_2_4_loss: 2.9334e-04 - dense_2_5_loss: 0.0053 - dense_2_6_loss: 0.0168 - dense_2_7_loss: 3.4855e-04 - dense_2_8_loss: 0.0023 - dense_2_9_loss: 0.0023 - dense_2_accuracy: 1.0000 - dense_2_1_accuracy: 1.0000 - dense_2_2_accuracy: 0.9998 - dense_2_3_accuracy: 0.9977 - dense_2_4_accuracy: 1.0000 - dense_2_5_accuracy: 0.9983 - dense_2_6_accuracy: 0.9971 - dense_2_7_accuracy: 1.0000 - dense_2_8_accuracy: 0.9999 - dense_2_9_accuracy: 1.0000\n",
      "Epoch 13/20\n",
      "100/100 [==============================] - 2s 24ms/step - loss: 0.0504 - dense_2_loss: 0.0013 - dense_2_1_loss: 0.0013 - dense_2_2_loss: 0.0057 - dense_2_3_loss: 0.0275 - dense_2_4_loss: 2.2258e-04 - dense_2_5_loss: 0.0023 - dense_2_6_loss: 0.0089 - dense_2_7_loss: 2.7413e-04 - dense_2_8_loss: 0.0013 - dense_2_9_loss: 0.0015 - dense_2_accuracy: 1.0000 - dense_2_1_accuracy: 1.0000 - dense_2_2_accuracy: 0.9998 - dense_2_3_accuracy: 0.9977 - dense_2_4_accuracy: 1.0000 - dense_2_5_accuracy: 0.9995 - dense_2_6_accuracy: 0.9989 - dense_2_7_accuracy: 1.0000 - dense_2_8_accuracy: 1.0000 - dense_2_9_accuracy: 1.0000\n",
      "Epoch 14/20\n",
      "100/100 [==============================] - 2s 23ms/step - loss: 0.0374 - dense_2_loss: 9.5742e-04 - dense_2_1_loss: 8.5431e-04 - dense_2_2_loss: 0.0045 - dense_2_3_loss: 0.0230 - dense_2_4_loss: 1.9067e-04 - dense_2_5_loss: 9.6444e-04 - dense_2_6_loss: 0.0047 - dense_2_7_loss: 2.0543e-04 - dense_2_8_loss: 9.0022e-04 - dense_2_9_loss: 0.0011 - dense_2_accuracy: 1.0000 - dense_2_1_accuracy: 1.0000 - dense_2_2_accuracy: 0.9998 - dense_2_3_accuracy: 0.9977 - dense_2_4_accuracy: 1.0000 - dense_2_5_accuracy: 0.9999 - dense_2_6_accuracy: 1.0000 - dense_2_7_accuracy: 1.0000 - dense_2_8_accuracy: 1.0000 - dense_2_9_accuracy: 1.0000\n",
      "Epoch 15/20\n",
      "100/100 [==============================] - 2s 24ms/step - loss: 0.0320 - dense_2_loss: 7.4363e-04 - dense_2_1_loss: 6.3949e-04 - dense_2_2_loss: 0.0038 - dense_2_3_loss: 0.0205 - dense_2_4_loss: 1.5459e-04 - dense_2_5_loss: 6.8423e-04 - dense_2_6_loss: 0.0037 - dense_2_7_loss: 1.7794e-04 - dense_2_8_loss: 7.4701e-04 - dense_2_9_loss: 8.5530e-04 - dense_2_accuracy: 1.0000 - dense_2_1_accuracy: 1.0000 - dense_2_2_accuracy: 0.9998 - dense_2_3_accuracy: 0.9977 - dense_2_4_accuracy: 1.0000 - dense_2_5_accuracy: 1.0000 - dense_2_6_accuracy: 0.9999 - dense_2_7_accuracy: 1.0000 - dense_2_8_accuracy: 1.0000 - dense_2_9_accuracy: 1.0000\n",
      "Epoch 16/20\n",
      "100/100 [==============================] - 2s 24ms/step - loss: 0.0308 - dense_2_loss: 6.3395e-04 - dense_2_1_loss: 5.2826e-04 - dense_2_2_loss: 0.0036 - dense_2_3_loss: 0.0189 - dense_2_4_loss: 1.3786e-04 - dense_2_5_loss: 7.5662e-04 - dense_2_6_loss: 0.0047 - dense_2_7_loss: 1.5606e-04 - dense_2_8_loss: 7.0218e-04 - dense_2_9_loss: 7.8063e-04 - dense_2_accuracy: 1.0000 - dense_2_1_accuracy: 1.0000 - dense_2_2_accuracy: 0.9998 - dense_2_3_accuracy: 0.9977 - dense_2_4_accuracy: 1.0000 - dense_2_5_accuracy: 0.9999 - dense_2_6_accuracy: 0.9993 - dense_2_7_accuracy: 1.0000 - dense_2_8_accuracy: 1.0000 - dense_2_9_accuracy: 1.0000\n",
      "Epoch 17/20\n",
      "100/100 [==============================] - 2s 24ms/step - loss: 0.0542 - dense_2_loss: 7.0864e-04 - dense_2_1_loss: 5.2936e-04 - dense_2_2_loss: 0.0032 - dense_2_3_loss: 0.0187 - dense_2_4_loss: 1.1354e-04 - dense_2_5_loss: 0.0069 - dense_2_6_loss: 0.0175 - dense_2_7_loss: 1.5389e-04 - dense_2_8_loss: 0.0036 - dense_2_9_loss: 0.0028 - dense_2_accuracy: 1.0000 - dense_2_1_accuracy: 1.0000 - dense_2_2_accuracy: 0.9998 - dense_2_3_accuracy: 0.9978 - dense_2_4_accuracy: 1.0000 - dense_2_5_accuracy: 0.9977 - dense_2_6_accuracy: 0.9959 - dense_2_7_accuracy: 1.0000 - dense_2_8_accuracy: 0.9994 - dense_2_9_accuracy: 0.9995\n",
      "Epoch 18/20\n",
      "100/100 [==============================] - 2s 25ms/step - loss: 0.0328 - dense_2_loss: 6.9373e-04 - dense_2_1_loss: 5.0631e-04 - dense_2_2_loss: 0.0032 - dense_2_3_loss: 0.0185 - dense_2_4_loss: 1.0735e-04 - dense_2_5_loss: 0.0015 - dense_2_6_loss: 0.0059 - dense_2_7_loss: 1.3720e-04 - dense_2_8_loss: 9.7512e-04 - dense_2_9_loss: 0.0013 - dense_2_accuracy: 1.0000 - dense_2_1_accuracy: 1.0000 - dense_2_2_accuracy: 0.9998 - dense_2_3_accuracy: 0.9977 - dense_2_4_accuracy: 1.0000 - dense_2_5_accuracy: 0.9998 - dense_2_6_accuracy: 0.9989 - dense_2_7_accuracy: 1.0000 - dense_2_8_accuracy: 0.9999 - dense_2_9_accuracy: 0.9997\n",
      "Epoch 19/20\n",
      "100/100 [==============================] - 2s 24ms/step - loss: 0.0231 - dense_2_loss: 5.5357e-04 - dense_2_1_loss: 4.1807e-04 - dense_2_2_loss: 0.0029 - dense_2_3_loss: 0.0157 - dense_2_4_loss: 1.0672e-04 - dense_2_5_loss: 5.4752e-04 - dense_2_6_loss: 0.0018 - dense_2_7_loss: 9.1258e-05 - dense_2_8_loss: 4.6260e-04 - dense_2_9_loss: 5.4976e-04 - dense_2_accuracy: 1.0000 - dense_2_1_accuracy: 1.0000 - dense_2_2_accuracy: 0.9998 - dense_2_3_accuracy: 0.9979 - dense_2_4_accuracy: 1.0000 - dense_2_5_accuracy: 1.0000 - dense_2_6_accuracy: 1.0000 - dense_2_7_accuracy: 1.0000 - dense_2_8_accuracy: 1.0000 - dense_2_9_accuracy: 1.0000\n",
      "Epoch 20/20\n",
      "100/100 [==============================] - 2s 25ms/step - loss: 0.0202 - dense_2_loss: 4.1964e-04 - dense_2_1_loss: 3.2663e-04 - dense_2_2_loss: 0.0026 - dense_2_3_loss: 0.0139 - dense_2_4_loss: 9.8081e-05 - dense_2_5_loss: 3.0764e-04 - dense_2_6_loss: 0.0017 - dense_2_7_loss: 8.6017e-05 - dense_2_8_loss: 3.7157e-04 - dense_2_9_loss: 4.5557e-04 - dense_2_accuracy: 1.0000 - dense_2_1_accuracy: 1.0000 - dense_2_2_accuracy: 0.9998 - dense_2_3_accuracy: 0.9979 - dense_2_4_accuracy: 1.0000 - dense_2_5_accuracy: 1.0000 - dense_2_6_accuracy: 1.0000 - dense_2_7_accuracy: 1.0000 - dense_2_8_accuracy: 1.0000 - dense_2_9_accuracy: 1.0000\n"
     ]
    },
    {
     "output_type": "execute_result",
     "data": {
      "text/plain": [
       "<keras.src.callbacks.History at 0x7b855c406650>"
      ]
     },
     "metadata": {},
     "execution_count": 16
    }
   ],
   "source": [
    "model.fit([Xoh, s0, c0], outputs, epochs=20, batch_size=100)"
   ],
   "metadata": {
    "colab": {
     "base_uri": "https://localhost:8080/"
    },
    "id": "4934ec12b64f5afd",
    "executionInfo": {
     "status": "ok",
     "timestamp": 1703244114565,
     "user_tz": -420,
     "elapsed": 66124,
     "user": {
      "displayName": "Thuan Nguyen",
      "userId": "08117843644571562719"
     }
    },
    "outputId": "f68ad34f-ba07-40ef-84f2-a09a102c3ed7"
   },
   "id": "4934ec12b64f5afd"
  },
  {
   "cell_type": "code",
   "execution_count": 17,
   "outputs": [
    {
     "output_type": "stream",
     "name": "stdout",
     "text": [
      "1/1 [==============================] - 4s 4s/step\n",
      "source: 3 May 1979\n",
      "output: 1979-05-03 \n",
      "\n",
      "1/1 [==============================] - 0s 30ms/step\n",
      "source: 5 April 09\n",
      "output: 2009-04-05 \n",
      "\n",
      "1/1 [==============================] - 0s 29ms/step\n",
      "source: 21th of August 2016\n",
      "output: 2016-08-21 \n",
      "\n",
      "1/1 [==============================] - 0s 31ms/step\n",
      "source: Tue 10 Jul 2007\n",
      "output: 2007-07-10 \n",
      "\n",
      "1/1 [==============================] - 0s 33ms/step\n",
      "source: Saturday May 9 2018\n",
      "output: 2018-05-09 \n",
      "\n",
      "1/1 [==============================] - 0s 32ms/step\n",
      "source: March 3 2001\n",
      "output: 2001-03-03 \n",
      "\n",
      "1/1 [==============================] - 0s 30ms/step\n",
      "source: March 3rd 2001\n",
      "output: 2001-03-03 \n",
      "\n",
      "1/1 [==============================] - 0s 34ms/step\n",
      "source: 1 March 2001\n",
      "output: 2001-03-01 \n"
     ]
    }
   ],
   "source": [
    "EXAMPLES = ['3 May 1979', '5 April 09', '21th of August 2016', 'Tue 10 Jul 2007', 'Saturday May 9 2018', 'March 3 2001', 'March 3rd 2001', '1 March 2001']\n",
    "s00 = np.zeros((1, n_s))\n",
    "c00 = np.zeros((1, n_s))\n",
    "for example in EXAMPLES:\n",
    "    source = string_to_int(example, Tx, human_vocab)\n",
    "    source = np.array(list(map(lambda x: to_categorical(x, num_classes=len(human_vocab)), source)))\n",
    "    source = source.swapaxes(0, 1)\n",
    "    source = np.swapaxes(source, 0, 1)\n",
    "    source = np.expand_dims(source, axis=0)\n",
    "    prediction = model.predict([source, s00, c00])\n",
    "    prediction = np.argmax(prediction, axis=-1)\n",
    "    output = [inv_machine_vocab[int(i)] for i in prediction]\n",
    "    print(\"source:\", example)\n",
    "    print(\"output:\", ''.join(output), \"\\n\")"
   ],
   "metadata": {
    "colab": {
     "base_uri": "https://localhost:8080/"
    },
    "id": "967b00e96cdd1803",
    "executionInfo": {
     "status": "ok",
     "timestamp": 1703244119741,
     "user_tz": -420,
     "elapsed": 5181,
     "user": {
      "displayName": "Thuan Nguyen",
      "userId": "08117843644571562719"
     }
    },
    "outputId": "0a50ddd9-42c3-4421-c2d3-c76bc9664fb6"
   },
   "id": "967b00e96cdd1803"
  },
  {
   "cell_type": "markdown",
   "source": [
    "# Visualizing Attention Weights"
   ],
   "metadata": {
    "collapsed": false,
    "id": "ba346fee74573332"
   },
   "id": "ba346fee74573332"
  },
  {
   "cell_type": "markdown",
   "source": [
    "This helper function (from the Coursera starting code) allows us to visualize the computed $\\alpha^{\\langle t, t' \\rangle}$"
   ],
   "metadata": {
    "collapsed": false,
    "id": "ad14bcb55dee59d9"
   },
   "id": "ad14bcb55dee59d9"
  },
  {
   "cell_type": "code",
   "execution_count": 18,
   "outputs": [
    {
     "output_type": "stream",
     "name": "stdout",
     "text": [
      "1/1 [==============================] - 0s 31ms/step\n"
     ]
    },
    {
     "output_type": "display_data",
     "data": {
      "text/plain": [
       "<Figure size 640x480 with 0 Axes>"
      ]
     },
     "metadata": {}
    },
    {
     "output_type": "display_data",
     "data": {
      "text/plain": [
       "<Figure size 800x500 with 2 Axes>"
      ],
      "image/png": "[encoded data removed]"
     },
     "metadata": {}
    }
   ],
   "source": [
    "attention_map = plot_attention_map(model, human_vocab, inv_machine_vocab, \"Thursday 23 Sep 1996\", num = 7, n_s = 64);"
   ],
   "metadata": {
    "colab": {
     "base_uri": "https://localhost:8080/",
     "height": 463
    },
    "id": "655eb43aa347e1c5",
    "executionInfo": {
     "status": "ok",
     "timestamp": 1703244123497,
     "user_tz": -420,
     "elapsed": 3769,
     "user": {
      "displayName": "Thuan Nguyen",
      "userId": "08117843644571562719"
     }
    },
    "outputId": "000a3263-aafd-4499-eea6-687626bbfc40"
   },
   "id": "655eb43aa347e1c5"
  }
 ],
 "metadata": {
  "kernelspec": {
   "display_name": "Python 3",
   "name": "python3"
  },
  "language_info": {
   "codemirror_mode": {
    "name": "ipython",
    "version": 2
   },
   "file_extension": ".py",
   "mimetype": "text/x-python",
   "name": "python",
   "nbconvert_exporter": "python",
   "pygments_lexer": "ipython2",
   "version": "2.7.6"
  },
  "colab": {
   "provenance": [],
   "machine_shape": "hm",
   "gpuType": "T4"
  },
  "accelerator": "GPU"
 },
 "nbformat": 4,
 "nbformat_minor": 5
}
